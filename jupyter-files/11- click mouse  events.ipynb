{
 "cells": [
  {
   "cell_type": "markdown",
   "id": "28197716",
   "metadata": {},
   "source": [
    "# opencv course\n",
    "# A presentation by Mohammad Kahkeshani"
   ]
  },
  {
   "cell_type": "code",
   "execution_count": 1,
   "id": "e00b08d7",
   "metadata": {},
   "outputs": [],
   "source": [
    "import cv2\n",
    "import numpy as np"
   ]
  },
  {
   "cell_type": "markdown",
   "id": "e066af99",
   "metadata": {},
   "source": [
    "### lets see mouse events in open cv"
   ]
  },
  {
   "cell_type": "code",
   "execution_count": 2,
   "id": "d6da8ed4",
   "metadata": {},
   "outputs": [
    {
     "name": "stdout",
     "output_type": "stream",
     "text": [
      "['EVENT_FLAG_ALTKEY', 'EVENT_FLAG_CTRLKEY', 'EVENT_FLAG_LBUTTON', 'EVENT_FLAG_MBUTTON', 'EVENT_FLAG_RBUTTON', 'EVENT_FLAG_SHIFTKEY', 'EVENT_LBUTTONDBLCLK', 'EVENT_LBUTTONDOWN', 'EVENT_LBUTTONUP', 'EVENT_MBUTTONDBLCLK', 'EVENT_MBUTTONDOWN', 'EVENT_MBUTTONUP', 'EVENT_MOUSEHWHEEL', 'EVENT_MOUSEMOVE', 'EVENT_MOUSEWHEEL', 'EVENT_RBUTTONDBLCLK', 'EVENT_RBUTTONDOWN', 'EVENT_RBUTTONUP']\n"
     ]
    }
   ],
   "source": [
    "mouse_events = [i for i in dir(cv2) if 'EVENT' in i]\n",
    "print(mouse_events)"
   ]
  },
  {
   "cell_type": "markdown",
   "id": "56b74f4e",
   "metadata": {},
   "source": [
    "### callback for draw circle"
   ]
  },
  {
   "cell_type": "code",
   "execution_count": 4,
   "id": "a8ea0ec6",
   "metadata": {},
   "outputs": [],
   "source": [
    "# mause callback func\n",
    "def draw_circle(event, x, y, flags, param):\n",
    "    if event == cv2.EVENT_LBUTTONDOWN:\n",
    "        cv2.circle(img,(x,y),20,(255,0,0), -1)\n",
    "        \n",
    "# create a black img\n",
    "img = np.zeros((512,512,3), np.uint8)\n",
    "\n",
    "# create a window\n",
    "cv2.namedWindow('My Image')\n",
    "\n",
    "# bind the function to window\n",
    "cv2.setMouseCallback('My Image', draw_circle)\n",
    "\n",
    "# lets do it\n",
    "while True:\n",
    "    cv2.imshow('My Image', img)\n",
    "    if cv2.waitKey(1) & 0xFF == 27:\n",
    "        break\n",
    "cv2.destroyAllWindows()"
   ]
  }
 ],
 "metadata": {
  "kernelspec": {
   "display_name": "Python 3 (ipykernel)",
   "language": "python",
   "name": "python3"
  },
  "language_info": {
   "codemirror_mode": {
    "name": "ipython",
    "version": 3
   },
   "file_extension": ".py",
   "mimetype": "text/x-python",
   "name": "python",
   "nbconvert_exporter": "python",
   "pygments_lexer": "ipython3",
   "version": "3.11.5"
  }
 },
 "nbformat": 4,
 "nbformat_minor": 5
}
