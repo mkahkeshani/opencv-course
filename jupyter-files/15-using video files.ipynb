{
 "cells": [
  {
   "cell_type": "markdown",
   "id": "8c7442c0",
   "metadata": {},
   "source": [
    "# opencv course\n",
    "# A presentation by Mohammad Kahkeshani\n",
    "### instagram:\n",
    "#### codevision_academy\n",
    "#### kahkeshani_mohammad"
   ]
  },
  {
   "cell_type": "code",
   "execution_count": 1,
   "id": "4273cacc",
   "metadata": {},
   "outputs": [],
   "source": [
    "import cv2"
   ]
  },
  {
   "cell_type": "code",
   "execution_count": 2,
   "id": "c47edbc4",
   "metadata": {},
   "outputs": [
    {
     "name": "stdout",
     "output_type": "stream",
     "text": [
      "End of video\n"
     ]
    }
   ],
   "source": [
    "cap = cv2.VideoCapture('videos/mv.mp4')\n",
    "\n",
    "while True:\n",
    "    ret,frame = cap.read()\n",
    "    \n",
    "    if not ret:\n",
    "        print('End of video')\n",
    "        break\n",
    "    cv2.imshow('video',frame)\n",
    "    if cv2.waitKey(1) and 0xFF == 27:\n",
    "        break\n",
    "        \n",
    "cap.release()\n",
    "cv2.destroyAllWindows()"
   ]
  },
  {
   "cell_type": "markdown",
   "id": "8f910d50",
   "metadata": {},
   "source": [
    "### Convert video to grayscale"
   ]
  },
  {
   "cell_type": "code",
   "execution_count": 2,
   "id": "b1a56c33",
   "metadata": {},
   "outputs": [
    {
     "name": "stdout",
     "output_type": "stream",
     "text": [
      "End of video\n"
     ]
    }
   ],
   "source": [
    "cap = cv2.VideoCapture('videos/mv.mp4')\n",
    "\n",
    "while True:\n",
    "    ret,frame = cap.read()\n",
    "    \n",
    "    if not ret:\n",
    "        print('End of video')\n",
    "        break\n",
    "    gray = cv2.cvtColor(frame, cv2.COLOR_BGR2GRAY)\n",
    "    cv2.imshow('video',gray)\n",
    "    if cv2.waitKey(1) and 0xFF == 27:\n",
    "        break\n",
    "        \n",
    "cap.release()\n",
    "cv2.destroyAllWindows()"
   ]
  },
  {
   "cell_type": "markdown",
   "id": "ca7a7991",
   "metadata": {},
   "source": [
    "### Reading video information (Examining some of the features of the cap)"
   ]
  },
  {
   "cell_type": "code",
   "execution_count": 3,
   "id": "baf5c3ce",
   "metadata": {},
   "outputs": [
    {
     "name": "stdout",
     "output_type": "stream",
     "text": [
      "0.0\n",
      "0.0\n",
      "1.6666666666666667e-05\n",
      "768.0\n",
      "432.0\n",
      "59.94005994005994\n",
      "875967080.0\n",
      "1022.0\n",
      "0.0\n",
      "0.0\n",
      "0.0\n",
      "0.0\n",
      "0.0\n",
      "0.0\n",
      "0.0\n",
      "0.0\n",
      "1.0\n",
      "0.0\n",
      "0.0\n",
      "0.0\n"
     ]
    }
   ],
   "source": [
    "cap = cv2.VideoCapture('videos/mv.mp4')\n",
    "\n",
    "for i in range(0,20):\n",
    "    print(cap.get(i))"
   ]
  },
  {
   "cell_type": "markdown",
   "id": "76fc695c",
   "metadata": {},
   "source": [
    "### syntax:\n",
    "### value = cap.get(propId)\n",
    "\n",
    "### document:\n",
    "https://docs.opencv.org/4.x/d4/d15/group__videoio__flags__base.html#gaeb8dd9c89c10a5c63c139bf7c4f5704d"
   ]
  },
  {
   "cell_type": "code",
   "execution_count": 8,
   "id": "528eaf9c",
   "metadata": {},
   "outputs": [
    {
     "name": "stdout",
     "output_type": "stream",
     "text": [
      "width is:  768.0\n",
      "FPS is:  59.94005994005994\n"
     ]
    }
   ],
   "source": [
    "cap = cv2.VideoCapture('videos/mv.mp4')\n",
    "\n",
    "print('width is: ', cap.get(cv2.CAP_PROP_FRAME_WIDTH))\n",
    "print('FPS is: ', cap.get(cv2.CAP_PROP_FPS))"
   ]
  }
 ],
 "metadata": {
  "kernelspec": {
   "display_name": "Python 3 (ipykernel)",
   "language": "python",
   "name": "python3"
  },
  "language_info": {
   "codemirror_mode": {
    "name": "ipython",
    "version": 3
   },
   "file_extension": ".py",
   "mimetype": "text/x-python",
   "name": "python",
   "nbconvert_exporter": "python",
   "pygments_lexer": "ipython3",
   "version": "3.11.5"
  }
 },
 "nbformat": 4,
 "nbformat_minor": 5
}
