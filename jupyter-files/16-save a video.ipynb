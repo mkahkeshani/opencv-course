{
 "cells": [
  {
   "cell_type": "markdown",
   "id": "f0c15302",
   "metadata": {},
   "source": [
    "# opencv course\n",
    "# A presentation by Mohammad Kahkeshani\n",
    "### instagram:\n",
    "#### codevision_academy\n",
    "#### kahkeshani_mohammad"
   ]
  },
  {
   "cell_type": "code",
   "execution_count": 1,
   "id": "6f67d224",
   "metadata": {},
   "outputs": [],
   "source": [
    "import cv2\n",
    "import numpy as np"
   ]
  },
  {
   "cell_type": "code",
   "execution_count": 3,
   "id": "455d0ef5",
   "metadata": {},
   "outputs": [],
   "source": [
    "cap = cv2.VideoCapture(0)\n",
    "\n",
    "# define codec and VideoWriter\n",
    "fourcc = cv2.VideoWriter_fourcc(*'XVID')\n",
    "output = cv2.VideoWriter('autput.avi', fourcc, 30.0, (1280,720))\n",
    "\n",
    "while cap.isOpened():\n",
    "    ret,frame = cap.read()\n",
    "    if not ret:\n",
    "        print('cant recive frame')\n",
    "        break\n",
    "    output.write(frame)\n",
    "    cv2.imshow('frame', frame)\n",
    "    if cv2.waitKey(1) == ord('q'):\n",
    "        break\n",
    "\n",
    "cap.release()\n",
    "output.release()\n",
    "\n",
    "\n",
    "cv2.destroyAllWindows()"
   ]
  },
  {
   "cell_type": "markdown",
   "id": "fdefc229",
   "metadata": {},
   "source": [
    "### Edit video and save it"
   ]
  },
  {
   "cell_type": "code",
   "execution_count": 2,
   "id": "9fb14026",
   "metadata": {},
   "outputs": [
    {
     "name": "stdout",
     "output_type": "stream",
     "text": [
      "Done\n"
     ]
    }
   ],
   "source": [
    "cap = cv2.VideoCapture('videos/mv.mp4')\n",
    "\n",
    "w = int(cap.get(3)) \n",
    "h = int(cap.get(4))\n",
    "\n",
    "out = cv2.VideoWriter('race_car_gray.avi', cv2.VideoWriter_fourcc('M','J','P','G'), cap.get(cv2.CAP_PROP_FPS), (w, h), False)\n",
    "\n",
    "while True:\n",
    "\n",
    "    ret, frame = cap.read()\n",
    "\n",
    "    if ret == True:\n",
    "        gray = cv2.cvtColor(frame, cv2.COLOR_BGR2GRAY)\n",
    "        out.write(gray)\n",
    "    else:\n",
    "        print(\"Done\")\n",
    "        break\n",
    "        \n",
    "cap.release()\n",
    "out.release()\n",
    "cv2.destroyAllWindows()"
   ]
  }
 ],
 "metadata": {
  "kernelspec": {
   "display_name": "Python 3 (ipykernel)",
   "language": "python",
   "name": "python3"
  },
  "language_info": {
   "codemirror_mode": {
    "name": "ipython",
    "version": 3
   },
   "file_extension": ".py",
   "mimetype": "text/x-python",
   "name": "python",
   "nbconvert_exporter": "python",
   "pygments_lexer": "ipython3",
   "version": "3.11.5"
  }
 },
 "nbformat": 4,
 "nbformat_minor": 5
}
