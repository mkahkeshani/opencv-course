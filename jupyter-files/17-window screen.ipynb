{
 "cells": [
  {
   "cell_type": "markdown",
   "id": "8dfb9621",
   "metadata": {},
   "source": [
    "# opencv course\n",
    "# A presentation by Mohammad Kahkeshani\n",
    "### instagram:\n",
    "#### codevision_academy\n",
    "#### kahkeshani_mohammad"
   ]
  },
  {
   "cell_type": "code",
   "execution_count": 1,
   "id": "3f56adfe",
   "metadata": {},
   "outputs": [],
   "source": [
    "import cv2\n",
    "import numpy as np\n",
    "from PIL import ImageGrab"
   ]
  },
  {
   "cell_type": "markdown",
   "id": "41bf516c",
   "metadata": {},
   "source": [
    "### capture the Screen"
   ]
  },
  {
   "cell_type": "code",
   "execution_count": 2,
   "id": "76f9a198",
   "metadata": {},
   "outputs": [],
   "source": [
    "while True:\n",
    "    frame = np.array(ImageGrab.grab())\n",
    "    cv2.imshow('screen', cv2.cvtColor(frame,cv2.COLOR_BGR2RGB))\n",
    "    if cv2.waitKey(1) & 0xFF == 27:\n",
    "        break\n",
    "cv2.destroyAllWindows()"
   ]
  },
  {
   "cell_type": "markdown",
   "id": "5d7e7385",
   "metadata": {},
   "source": [
    "### Take Screen shot"
   ]
  },
  {
   "cell_type": "code",
   "execution_count": 4,
   "id": "261741b5",
   "metadata": {},
   "outputs": [],
   "source": [
    "screen = ImageGrab.grab()\n",
    "screen.save('screen.jpg')"
   ]
  }
 ],
 "metadata": {
  "kernelspec": {
   "display_name": "Python 3 (ipykernel)",
   "language": "python",
   "name": "python3"
  },
  "language_info": {
   "codemirror_mode": {
    "name": "ipython",
    "version": 3
   },
   "file_extension": ".py",
   "mimetype": "text/x-python",
   "name": "python",
   "nbconvert_exporter": "python",
   "pygments_lexer": "ipython3",
   "version": "3.11.5"
  }
 },
 "nbformat": 4,
 "nbformat_minor": 5
}
