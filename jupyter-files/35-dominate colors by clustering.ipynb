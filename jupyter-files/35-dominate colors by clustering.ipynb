{
 "cells": [
  {
   "cell_type": "markdown",
   "id": "aebf86dc",
   "metadata": {},
   "source": [
    "# opencv course\n",
    "# A presentation by Mohammad Kahkeshani\n",
    "### instagram:\n",
    "#### codevision_academy\n",
    "#### kahkeshani_mohammad"
   ]
  },
  {
   "cell_type": "code",
   "execution_count": 9,
   "id": "f268404c",
   "metadata": {},
   "outputs": [],
   "source": [
    "import cv2\n",
    "import numpy as np\n",
    "from sklearn.cluster import KMeans\n",
    "import matplotlib.pyplot as plt"
   ]
  },
  {
   "cell_type": "markdown",
   "id": "c048b41a",
   "metadata": {},
   "source": [
    "### Clustering"
   ]
  },
  {
   "cell_type": "code",
   "execution_count": 1,
   "id": "c891ef62",
   "metadata": {},
   "outputs": [
    {
     "name": "stderr",
     "output_type": "stream",
     "text": [
      "C:\\Users\\kahkeshan\\anaconda3\\Lib\\site-packages\\sklearn\\cluster\\_kmeans.py:1412: FutureWarning: The default value of `n_init` will change from 10 to 'auto' in 1.4. Set the value of `n_init` explicitly to suppress the warning\n",
      "  super()._check_params_vs_input(X, default_n_init=10)\n"
     ]
    },
    {
     "name": "stdout",
     "output_type": "stream",
     "text": [
      "[[ 10 139  77]\n",
      " [  2 179 245]\n",
      " [ 28  59 183]\n",
      " [  2  58  21]\n",
      " [129 189 227]]\n",
      "[2 2 2 ... 3 3 3]\n"
     ]
    }
   ],
   "source": [
    "n_clusters = 5\n",
    "\n",
    "#read image\n",
    "img = cv2.imread(\"images/felfel-dolme.jpg\")\n",
    "\n",
    "#reshape to a list of pixels\n",
    "flat_img = img.reshape((-1, 3))\n",
    "\n",
    "#using k-means to cluster pixels\n",
    "kmeans = KMeans(n_clusters = n_clusters)\n",
    "kmeans.fit(flat_img)\n",
    "\n",
    "#the cluster centers are our dominant colors.\n",
    "dominant_colors = np.array(kmeans.cluster_centers_, dtype='uint8')\n",
    "\n",
    "labels = kmeans.labels_\n",
    "\n",
    "print(dominant_colors)\n",
    "print(labels)"
   ]
  },
  {
   "cell_type": "code",
   "execution_count": 2,
   "id": "580636c6",
   "metadata": {},
   "outputs": [
    {
     "data": {
      "text/plain": [
       "array([0.1463141 , 0.33723115, 0.21057798, 0.27835379, 0.02752298])"
      ]
     },
     "execution_count": 2,
     "metadata": {},
     "output_type": "execute_result"
    }
   ],
   "source": [
    "percentages = np.bincount(labels)/len(flat_img)\n",
    "percentages"
   ]
  },
  {
   "cell_type": "code",
   "execution_count": 5,
   "id": "6485e99a",
   "metadata": {},
   "outputs": [
    {
     "data": {
      "text/plain": [
       "[(0.3372311487854251, array([  2, 179, 245], dtype=uint8)),\n",
       " (0.2783537871120108, array([ 2, 58, 21], dtype=uint8)),\n",
       " (0.21057797739541162, array([ 28,  59, 183], dtype=uint8)),\n",
       " (0.14631410256410257, array([ 10, 139,  77], dtype=uint8)),\n",
       " (0.027522984143049933, array([129, 189, 227], dtype=uint8))]"
      ]
     },
     "execution_count": 5,
     "metadata": {},
     "output_type": "execute_result"
    }
   ],
   "source": [
    "p_and_c = zip(percentages,dominant_colors)\n",
    "p_and_c = sorted(p_and_c,reverse=True)\n",
    "p_and_c"
   ]
  },
  {
   "cell_type": "markdown",
   "id": "b9c111e7",
   "metadata": {},
   "source": [
    "### Show Result"
   ]
  },
  {
   "cell_type": "code",
   "execution_count": 6,
   "id": "fcd5ef60",
   "metadata": {},
   "outputs": [
    {
     "data": {
      "image/png": "[encoded data removed]",
      "text/plain": [
       "<Figure size 1200x800 with 5 Axes>"
      ]
     },
     "metadata": {},
     "output_type": "display_data"
    }
   ],
   "source": [
    "block = np.ones((50,50,3),dtype='uint')\n",
    "plt.figure(figsize=(12,8))\n",
    "for i in range(n_clusters):\n",
    "    plt.subplot(1,n_clusters,i+1)\n",
    "    block[:] = p_and_c[i][1][::-1] # we have done this to convert bgr(opencv) to rgb(matplotlib) \n",
    "    plt.imshow(block)\n",
    "    plt.xticks([])\n",
    "    plt.yticks([])\n",
    "    plt.xlabel(str(round(p_and_c[i][0]*100,2))+'%')"
   ]
  },
  {
   "cell_type": "markdown",
   "id": "90c6e236",
   "metadata": {},
   "source": [
    "### another way"
   ]
  },
  {
   "cell_type": "code",
   "execution_count": 7,
   "id": "bb915267",
   "metadata": {},
   "outputs": [
    {
     "data": {
      "text/plain": [
       "([], [])"
      ]
     },
     "execution_count": 7,
     "metadata": {},
     "output_type": "execute_result"
    },
    {
     "data": {
      "image/png": "[encoded data removed]",
      "text/plain": [
       "<Figure size 1200x800 with 1 Axes>"
      ]
     },
     "metadata": {},
     "output_type": "display_data"
    }
   ],
   "source": [
    "bar = np.ones((50,500,3),dtype='uint')\n",
    "plt.figure(figsize=(12,8))\n",
    "plt.title('Proportions of colors in the image')\n",
    "start = 0\n",
    "i = 1\n",
    "for p,c in p_and_c:\n",
    "    end = start+int(p*500)\n",
    "    if i==n_clusters:\n",
    "        bar[:,start:] = c[::-1]\n",
    "    else:\n",
    "        bar[:,start:end] = c[::-1]\n",
    "    start = end\n",
    "    i+=1\n",
    "\n",
    "plt.imshow(bar)\n",
    "plt.xticks([])\n",
    "plt.yticks([])"
   ]
  },
  {
   "cell_type": "markdown",
   "id": "39c8ccc9",
   "metadata": {},
   "source": [
    "### The best way"
   ]
  },
  {
   "cell_type": "code",
   "execution_count": 11,
   "id": "9127a5a7",
   "metadata": {},
   "outputs": [],
   "source": [
    "rows = 1000\n",
    "cols = int((img.shape[0]/img.shape[1])*rows)\n",
    "img = cv2.resize(img,dsize=(rows,cols),interpolation=cv2.INTER_LINEAR)\n",
    "\n",
    "copy = img.copy()\n",
    "cv2.rectangle(copy,(rows//2-250,cols//2-90),(rows//2+\n",
    "                                             250,cols//2+110),(255,255,255),-1)\n",
    "\n",
    "final = cv2.addWeighted(img,0.1,copy,0.9,0)\n",
    "cv2.putText(final,'Most Dominant Colors in the Image',(rows//2-230,cols//2-40),cv2.FONT_HERSHEY_DUPLEX,0.8,(0,0,0),1,cv2.LINE_AA)\n",
    "\n",
    "\n",
    "start = rows//2-220\n",
    "for i in range(5):\n",
    "    end = start+70\n",
    "    final[cols//2:cols//2+70,start:end] = p_and_c[i][1]\n",
    "    cv2.putText(final,str(i+1),(start+25,cols//2+45),cv2.FONT_HERSHEY_DUPLEX,1,(255,255,255),1,cv2.LINE_AA)\n",
    "    start = end+20\n",
    "\n",
    "plt.show()\n",
    "\n",
    "cv2.imshow('img',final)\n",
    "cv2.waitKey(0)\n",
    "cv2.destroyAllWindows()"
   ]
  }
 ],
 "metadata": {
  "kernelspec": {
   "display_name": "Python 3 (ipykernel)",
   "language": "python",
   "name": "python3"
  },
  "language_info": {
   "codemirror_mode": {
    "name": "ipython",
    "version": 3
   },
   "file_extension": ".py",
   "mimetype": "text/x-python",
   "name": "python",
   "nbconvert_exporter": "python",
   "pygments_lexer": "ipython3",
   "version": "3.11.5"
  }
 },
 "nbformat": 4,
 "nbformat_minor": 5
}
