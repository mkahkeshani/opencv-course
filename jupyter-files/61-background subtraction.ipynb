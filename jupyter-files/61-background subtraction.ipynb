{
 "cells": [
  {
   "cell_type": "markdown",
   "id": "6b53eb4f",
   "metadata": {},
   "source": [
    "# opencv course\n",
    "# A presentation by Mohammad Kahkeshani\n",
    "### instagram:\n",
    "#### codevision_academy\n",
    "#### kahkeshani_mohammad"
   ]
  },
  {
   "cell_type": "code",
   "execution_count": 4,
   "id": "cadb9b7e",
   "metadata": {},
   "outputs": [],
   "source": [
    "import cv2\n",
    "import numpy as np"
   ]
  },
  {
   "cell_type": "code",
   "execution_count": 8,
   "id": "140a674a",
   "metadata": {},
   "outputs": [],
   "source": [
    "backsub = cv2.createBackgroundSubtractorMOG2()\n",
    "#backsub = cv2.createBackgroundSubtractorKNN\n",
    "\n",
    "capture = cv2.VideoCapture('videos/vtest.avi')\n",
    "\n",
    "while True:\n",
    "    ret,frame = capture.read()\n",
    "    if frame is None:\n",
    "        break\n",
    "        \n",
    "    fgmask = backsub.apply(frame)\n",
    "    \n",
    "    cv2.rectangle(frame,(10,2),(100,20),(0,0,255),-1)\n",
    "    cv2.putText(frame, str(capture.get(cv2.CAP_PROP_POS_FRAMES)),(15,15),\n",
    "               cv2.FONT_HERSHEY_SCRIPT_COMPLEX,0.5,(0,0,0))\n",
    "    \n",
    "    cv2.imshow('Frame',frame)\n",
    "    cv2.imshow('Mask',fgmask)\n",
    "    \n",
    "    keyboard = cv2.waitKey(30)\n",
    "    if keyboard == 'q' or keyboard == 27:\n",
    "        break\n",
    "\n",
    "cv2.destroyAllWindows()\n",
    "        "
   ]
  },
  {
   "cell_type": "markdown",
   "id": "5ba446ae",
   "metadata": {},
   "source": [
    "### Noise removal"
   ]
  },
  {
   "cell_type": "code",
   "execution_count": 6,
   "id": "bd98f777",
   "metadata": {},
   "outputs": [],
   "source": [
    "backsub = cv2.createBackgroundSubtractorMOG2()\n",
    "#backsub = cv2.createBackgroundSubtractorKNN\n",
    "\n",
    "capture = cv2.VideoCapture('videos/vtest.avi')\n",
    "\n",
    "while True:\n",
    "    ret,frame = capture.read()\n",
    "    if frame is None:\n",
    "        break\n",
    "        \n",
    "    fgmask = backsub.apply(frame)\n",
    "    \n",
    "    kernel = np.ones((5,5), np.uint8)\n",
    "    fgmask = cv2.erode(fgmask,kernel, iterations = 2)\n",
    "    fgmask = cv2.dilate(fgmask,kernel, iterations = 2)\n",
    "    fgmask[np.abs(fgmask) < 250] = 0\n",
    "    \n",
    "    cv2.rectangle(frame,(10,2),(100,20),(0,0,255),-1)\n",
    "    cv2.putText(frame, str(capture.get(cv2.CAP_PROP_POS_FRAMES)),(15,15),\n",
    "               cv2.FONT_HERSHEY_SCRIPT_COMPLEX,0.5,(0,0,0))\n",
    "    cv2.imshow('Frame',frame)\n",
    "    cv2.imshow('Mask',fgmask)\n",
    "    \n",
    "    keyboard = cv2.waitKey(30)\n",
    "    if keyboard == 'q' or keyboard == 27:\n",
    "        break\n",
    "\n",
    "cv2.destroyAllWindows()\n",
    "        "
   ]
  },
  {
   "cell_type": "markdown",
   "id": "748178b8",
   "metadata": {},
   "source": [
    "### use webcam"
   ]
  },
  {
   "cell_type": "code",
   "execution_count": 9,
   "id": "fbe5985b",
   "metadata": {},
   "outputs": [],
   "source": [
    "backsub = cv2.createBackgroundSubtractorMOG2()\n",
    "\n",
    "capture = cv2.VideoCapture(0)\n",
    "while True:\n",
    "    ret,frame = capture.read()\n",
    "    if frame is None:\n",
    "        break\n",
    "        \n",
    "    fgmask = backsub.apply(frame)\n",
    "    \n",
    "    cv2.imshow('Frame',frame)\n",
    "    cv2.imshow('Mask',fgmask)\n",
    "    \n",
    "    keyboard = cv2.waitKey(30)\n",
    "    if keyboard == 'q' or keyboard == 27:\n",
    "        break\n",
    "\n",
    "cv2.destroyAllWindows()\n",
    "        "
   ]
  }
 ],
 "metadata": {
  "kernelspec": {
   "display_name": "Python 3 (ipykernel)",
   "language": "python",
   "name": "python3"
  },
  "language_info": {
   "codemirror_mode": {
    "name": "ipython",
    "version": 3
   },
   "file_extension": ".py",
   "mimetype": "text/x-python",
   "name": "python",
   "nbconvert_exporter": "python",
   "pygments_lexer": "ipython3",
   "version": "3.11.5"
  }
 },
 "nbformat": 4,
 "nbformat_minor": 5
}
